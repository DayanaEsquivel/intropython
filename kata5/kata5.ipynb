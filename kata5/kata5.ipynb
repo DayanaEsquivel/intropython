{
 "cells": [
  {
   "cell_type": "markdown",
   "metadata": {},
   "source": [
    "# Ejercicio1 - Utilizar operadores aritméticos"
   ]
  },
  {
   "cell_type": "code",
   "execution_count": 13,
   "metadata": {},
   "outputs": [
    {
     "name": "stdout",
     "output_type": "stream",
     "text": [
      "-628949330\n"
     ]
    }
   ],
   "source": [
    "firts_planet = 149597870 \n",
    "second_planet = 778547200 \n",
    "distance = firts_planet - second_planet \n",
    "print(distance) "
   ]
  },
  {
   "cell_type": "code",
   "execution_count": 14,
   "metadata": {},
   "outputs": [
    {
     "name": "stdout",
     "output_type": "stream",
     "text": [
      "-390577533.93\n"
     ]
    }
   ],
   "source": [
    "distance_m = distance * 0.621\n",
    "print(distance_m)"
   ]
  },
  {
   "cell_type": "markdown",
   "metadata": {},
   "source": [
    "# Ejercicio 2: convierte cadenas en números y usa valores absolutos"
   ]
  },
  {
   "cell_type": "code",
   "execution_count": 21,
   "metadata": {},
   "outputs": [],
   "source": [
    "# Almacenar las entradas del usuario\n",
    "first_planet = input('Introduzca la distancia del sol para el primer planeta en KM')\n",
    "second_planet = input('Introduzca la distancia desde el sol para el segundo planeta en KM')"
   ]
  },
  {
   "cell_type": "code",
   "execution_count": 22,
   "metadata": {},
   "outputs": [
    {
     "name": "stdout",
     "output_type": "stream",
     "text": [
      "50300000\n"
     ]
    }
   ],
   "source": [
    "first_planet = int(first_planet)\n",
    "second_planet = int(second_planet)\n",
    "distance_km = second_planet - first_planet\n",
    "print(distance_km)\n"
   ]
  },
  {
   "cell_type": "code",
   "execution_count": 23,
   "metadata": {},
   "outputs": [
    {
     "name": "stdout",
     "output_type": "stream",
     "text": [
      "31236300.0\n"
     ]
    }
   ],
   "source": [
    "# Convertir km a millas\n",
    "distance_mi = distance_km * 0.621\n",
    "print(abs(distance_mi))"
   ]
  }
 ],
 "metadata": {
  "interpreter": {
   "hash": "b1189daf78ba46a36e3b76874a715ce03b20365678020dba8d792a020febe443"
  },
  "kernelspec": {
   "display_name": "Python 3.10.2 64-bit",
   "language": "python",
   "name": "python3"
  },
  "language_info": {
   "codemirror_mode": {
    "name": "ipython",
    "version": 3
   },
   "file_extension": ".py",
   "mimetype": "text/x-python",
   "name": "python",
   "nbconvert_exporter": "python",
   "pygments_lexer": "ipython3",
   "version": "3.10.2"
  },
  "orig_nbformat": 4
 },
 "nbformat": 4,
 "nbformat_minor": 2
}
