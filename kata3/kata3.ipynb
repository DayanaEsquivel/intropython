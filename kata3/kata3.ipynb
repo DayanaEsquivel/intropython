{
 "cells": [
  {
   "cell_type": "markdown",
   "metadata": {},
   "source": [
    "# Escribir declaraciones if, esle, if"
   ]
  },
  {
   "cell_type": "code",
   "execution_count": null,
   "metadata": {},
   "outputs": [],
   "source": [
    "# mayor de dos números\n",
    "a = 20\n",
    "b =  5\n",
    "\n",
    "if a > b:\n",
    "    print(\"a es mayor\")"
   ]
  },
  {
   "cell_type": "code",
   "execution_count": 4,
   "metadata": {},
   "outputs": [
    {
     "name": "stdout",
     "output_type": "stream",
     "text": [
      "El color morado tiene mas votos\n"
     ]
    }
   ],
   "source": [
    "# Color con mas votos\n",
    "morado = 20\n",
    "negro = 10\n",
    "azul = 5\n",
    "\n",
    "if morado > negro:\n",
    "    if morado > azul:\n",
    "        print(\"El color morado tiene mas votos\")\n",
    "    else:\n",
    "        print(\"El color azul tiene mas votos\")\n",
    "elif negro > azul:\n",
    "    print(\"El color negro tiene mas votos\")\n",
    "else:\n",
    "    print(\"El color azul tiene mas votos\")\n"
   ]
  },
  {
   "cell_type": "markdown",
   "metadata": {},
   "source": [
    "# Advertencia asteroide"
   ]
  },
  {
   "cell_type": "code",
   "execution_count": 6,
   "metadata": {},
   "outputs": [
    {
     "name": "stdout",
     "output_type": "stream",
     "text": [
      "Asteroide acercándose peligrosamente a una velocidad de 49 km/s\n"
     ]
    }
   ],
   "source": [
    "velocidadAsteroide = 49\n",
    "alerta = 25\n",
    "\n",
    "if velocidadAsteroide > alerta:\n",
    "    print(\"Asteroide acercándose peligrosamente a una velocidad de \" + str(velocidadAsteroide) + \" km/s\")\n",
    "else:\n",
    "    print(\"Asteroide detectado que no representa amenaza\")"
   ]
  },
  {
   "cell_type": "code",
   "execution_count": 8,
   "metadata": {},
   "outputs": [
    {
     "name": "stdout",
     "output_type": "stream",
     "text": [
      "No se puede apreciar desde la tierra :(\n"
     ]
    }
   ],
   "source": [
    "velocidadAsteroide = 19\n",
    "\n",
    "\n",
    "if velocidadAsteroide > 20:\n",
    "    print(\"Se puede ver la luz desde la tierra :)\")\n",
    "elif velocidadAsteroide == 20:\n",
    "    print(\"Se puede ver la luz desde la tierra :)\")\n",
    "else:\n",
    "    print(\"No se puede apreciar desde la tierra :(\")"
   ]
  },
  {
   "cell_type": "code",
   "execution_count": 10,
   "metadata": {},
   "outputs": [
    {
     "name": "stdout",
     "output_type": "stream",
     "text": [
      "Hay una luz en el cielo :)\n"
     ]
    }
   ],
   "source": [
    "velocidad = 25\n",
    "tamaño = 40\n",
    "\n",
    "if velocidad > 25 and tamaño > 25:\n",
    "    print(\"Asteroide peligroso\")\n",
    "elif velocidad >= 20:\n",
    "    print(\"Hay una luz en el cielo :)\")\n",
    "elif tamaño < 25:\n",
    "    print(\"Nada que ver aqui\")\n",
    "else:\n",
    "    print(\"Nada que ver aqui\")"
   ]
  }
 ],
 "metadata": {
  "interpreter": {
   "hash": "b1189daf78ba46a36e3b76874a715ce03b20365678020dba8d792a020febe443"
  },
  "kernelspec": {
   "display_name": "Python 3.10.2 64-bit",
   "language": "python",
   "name": "python3"
  },
  "language_info": {
   "codemirror_mode": {
    "name": "ipython",
    "version": 3
   },
   "file_extension": ".py",
   "mimetype": "text/x-python",
   "name": "python",
   "nbconvert_exporter": "python",
   "pygments_lexer": "ipython3",
   "version": "3.10.2"
  },
  "orig_nbformat": 4
 },
 "nbformat": 4,
 "nbformat_minor": 2
}
